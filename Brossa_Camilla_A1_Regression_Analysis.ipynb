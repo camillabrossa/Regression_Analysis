{
 "cells": [
  {
   "cell_type": "code",
   "execution_count": 3,
   "metadata": {},
   "outputs": [],
   "source": [
    "# importing the necessary libraries\n",
    "import pandas as pd                   # data science essentials\n",
    "import matplotlib.pyplot as plt       # essential graphical output\n",
    "import seaborn as sns                 # enhanced graphical output\n",
    "import numpy as np                    # mathematical essentials\n",
    "import statsmodels.formula.api as smf # regression modeling \n",
    "from sklearn.model_selection import train_test_split  # train/test split\n",
    "from sklearn.linear_model import LinearRegression    # linear regression (scikit-learn)\n",
    "\n",
    "\n",
    "# specifying the file name\n",
    "file = './Apprentice_Chef_Dataset.xlsx'\n",
    "\n",
    "# reading the file and renaming it as \"apprentice\"\n",
    "apprentice = pd.read_excel(file)"
   ]
  },
  {
   "cell_type": "code",
   "execution_count": 4,
   "metadata": {
    "scrolled": true
   },
   "outputs": [
    {
     "name": "stdout",
     "output_type": "stream",
     "text": [
      "<class 'pandas.core.frame.DataFrame'>\n",
      "RangeIndex: 1946 entries, 0 to 1945\n",
      "Data columns (total 28 columns):\n",
      " #   Column                       Non-Null Count  Dtype  \n",
      "---  ------                       --------------  -----  \n",
      " 0   REVENUE                      1946 non-null   float64\n",
      " 1   CROSS_SELL_SUCCESS           1946 non-null   int64  \n",
      " 2   NAME                         1946 non-null   object \n",
      " 3   EMAIL                        1946 non-null   object \n",
      " 4   FIRST_NAME                   1946 non-null   object \n",
      " 5   FAMILY_NAME                  1899 non-null   object \n",
      " 6   TOTAL_MEALS_ORDERED          1946 non-null   int64  \n",
      " 7   UNIQUE_MEALS_PURCH           1946 non-null   int64  \n",
      " 8   CONTACTS_W_CUSTOMER_SERVICE  1946 non-null   int64  \n",
      " 9   PRODUCT_CATEGORIES_VIEWED    1946 non-null   int64  \n",
      " 10  AVG_TIME_PER_SITE_VISIT      1946 non-null   float64\n",
      " 11  MOBILE_NUMBER                1946 non-null   int64  \n",
      " 12  CANCELLATIONS_BEFORE_NOON    1946 non-null   int64  \n",
      " 13  CANCELLATIONS_AFTER_NOON     1946 non-null   int64  \n",
      " 14  TASTES_AND_PREFERENCES       1946 non-null   int64  \n",
      " 15  PC_LOGINS                    1946 non-null   int64  \n",
      " 16  MOBILE_LOGINS                1946 non-null   int64  \n",
      " 17  WEEKLY_PLAN                  1946 non-null   int64  \n",
      " 18  EARLY_DELIVERIES             1946 non-null   int64  \n",
      " 19  LATE_DELIVERIES              1946 non-null   int64  \n",
      " 20  PACKAGE_LOCKER               1946 non-null   int64  \n",
      " 21  REFRIGERATED_LOCKER          1946 non-null   int64  \n",
      " 22  AVG_PREP_VID_TIME            1946 non-null   float64\n",
      " 23  AVG_MEALS_ORDERED            1946 non-null   int64  \n",
      " 24  MASTER_CLASSES_ATTENDED      1946 non-null   int64  \n",
      " 25  MEDIAN_MEAL_RATING           1946 non-null   int64  \n",
      " 26  AVG_CLICKS_PER_VISIT         1946 non-null   int64  \n",
      " 27  TOTAL_PHOTOS_VIEWED          1946 non-null   int64  \n",
      "dtypes: float64(3), int64(21), object(4)\n",
      "memory usage: 425.8+ KB\n"
     ]
    }
   ],
   "source": [
    "# Renaming LARGEST_ORDER_SIZE, since it is mislabeled and represents the \n",
    "# average number of meals ordered per customer\n",
    "apprentice.rename(columns={\"LARGEST_ORDER_SIZE\" : \"AVG_MEALS_ORDERED\"}, inplace = True)\n",
    "\n",
    "# checking the information about each variable to see data types\n",
    "apprentice.info()"
   ]
  },
  {
   "cell_type": "code",
   "execution_count": 5,
   "metadata": {
    "code_folding": []
   },
   "outputs": [
    {
     "data": {
      "text/plain": [
       "'FAMILY_NAME'"
      ]
     },
     "execution_count": 5,
     "metadata": {},
     "output_type": "execute_result"
    }
   ],
   "source": [
    "# checking the first 5 observation to determine the type of variable\n",
    "apprentice.head(5)\n",
    "\n",
    "\n",
    "##  CONTINUOUS VARIABLES:\n",
    "'REVENUE'\n",
    "'AVG_TIME_PER_SITE_VISIT'\n",
    "'AVG_PREP_VID_TIME'\n",
    "\n",
    "## INTERVAL/COUNT\n",
    "'CROSS_SELL_SUCCESS'\n",
    "'TOTAL_MEALS_ORDERED'\n",
    "'UNIQUE_MEALS_PURCH'\n",
    "'CONTACTS_W_CUSTOMER_SERVICE'\n",
    "'PRODUCT_CATEGORIES_VIEWED'\n",
    "'CANCELLATIONS_BEFORE_NOON'\n",
    "'CANCELLATIONS_AFTER_NOON'\n",
    "'MOBILE_LOGINS'\n",
    "'PC_LOGINS'\n",
    "'WEEKLY_PLAN'\n",
    "'EARLY_DELIVERIES'\n",
    "'LATE_DELIVERIES'\n",
    "'PACKAGE_LOCKER'\n",
    "'MOBILE_PHONE'\n",
    "'REFRIGERATED_LOCKER'\n",
    "'TASTES_AND_PREFERENCES'\n",
    "'MASTER_CLASSES_ATTENDED'\n",
    "'TOTAL_PHOTOS_VIEWED'\n",
    "'AVG_MEALS_ORDERED'\n",
    "'AVG_CLICKS_PER_VISIT'\n",
    "\n",
    "\n",
    "## CATEGORICAL\n",
    "'NAME'\n",
    "'EMAIL'\n",
    "'FIRST_NAME'\n",
    "'FAMILY_NAME'"
   ]
  },
  {
   "cell_type": "code",
   "execution_count": 6,
   "metadata": {
    "code_folding": [
     0
    ]
   },
   "outputs": [
    {
     "name": "stdout",
     "output_type": "stream",
     "text": [
      "\n",
      "EXPLORATORY DATA ANALYSIS\n",
      "\n",
      "Columns of the dataset:\n",
      " Index(['REVENUE', 'CROSS_SELL_SUCCESS', 'NAME', 'EMAIL', 'FIRST_NAME',\n",
      "       'FAMILY_NAME', 'TOTAL_MEALS_ORDERED', 'UNIQUE_MEALS_PURCH',\n",
      "       'CONTACTS_W_CUSTOMER_SERVICE', 'PRODUCT_CATEGORIES_VIEWED',\n",
      "       'AVG_TIME_PER_SITE_VISIT', 'MOBILE_NUMBER', 'CANCELLATIONS_BEFORE_NOON',\n",
      "       'CANCELLATIONS_AFTER_NOON', 'TASTES_AND_PREFERENCES', 'PC_LOGINS',\n",
      "       'MOBILE_LOGINS', 'WEEKLY_PLAN', 'EARLY_DELIVERIES', 'LATE_DELIVERIES',\n",
      "       'PACKAGE_LOCKER', 'REFRIGERATED_LOCKER', 'AVG_PREP_VID_TIME',\n",
      "       'AVG_MEALS_ORDERED', 'MASTER_CLASSES_ATTENDED', 'MEDIAN_MEAL_RATING',\n",
      "       'AVG_CLICKS_PER_VISIT', 'TOTAL_PHOTOS_VIEWED'],\n",
      "      dtype='object')\n",
      "\n",
      "Size of Original Dataset\n",
      "------------------------\n",
      "Observations: 1946\n",
      "Features:     28\n",
      "\n",
      "\n",
      "Descriptive statistics per column:\n",
      "            REVENUE  CROSS_SELL_SUCCESS  TOTAL_MEALS_ORDERED  \\\n",
      "count  1946.000000         1946.000000          1946.000000   \n",
      "mean   2107.292652            0.678828            74.634121   \n",
      "std    1138.290709            0.467047            55.309782   \n",
      "min     131.000000            0.000000            11.000000   \n",
      "25%    1350.000000            0.000000            39.000000   \n",
      "50%    1740.000000            1.000000            60.000000   \n",
      "75%    2670.000000            1.000000            95.000000   \n",
      "max    8793.750000            1.000000           493.000000   \n",
      "\n",
      "       UNIQUE_MEALS_PURCH  CONTACTS_W_CUSTOMER_SERVICE  \\\n",
      "count         1946.000000                  1946.000000   \n",
      "mean             4.904933                     6.983556   \n",
      "std              2.502175                     2.281193   \n",
      "min              1.000000                     1.000000   \n",
      "25%              3.000000                     5.000000   \n",
      "50%              5.000000                     7.000000   \n",
      "75%              7.000000                     8.000000   \n",
      "max             19.000000                    18.000000   \n",
      "\n",
      "       PRODUCT_CATEGORIES_VIEWED  AVG_TIME_PER_SITE_VISIT  MOBILE_NUMBER  \\\n",
      "count                1946.000000              1946.000000    1946.000000   \n",
      "mean                    5.383864                99.604651       0.877698   \n",
      "std                     3.044001                62.341756       0.327719   \n",
      "min                     1.000000                10.330000       0.000000   \n",
      "25%                     3.000000                72.000000       1.000000   \n",
      "50%                     5.000000                94.160000       1.000000   \n",
      "75%                     8.000000               117.287500       1.000000   \n",
      "max                    10.000000              1645.600000       1.000000   \n",
      "\n",
      "       CANCELLATIONS_BEFORE_NOON  CANCELLATIONS_AFTER_NOON  ...  \\\n",
      "count                1946.000000               1946.000000  ...   \n",
      "mean                    1.404933                  0.165982  ...   \n",
      "std                     1.549677                  0.432241  ...   \n",
      "min                     0.000000                  0.000000  ...   \n",
      "25%                     0.000000                  0.000000  ...   \n",
      "50%                     1.000000                  0.000000  ...   \n",
      "75%                     2.000000                  0.000000  ...   \n",
      "max                    13.000000                  3.000000  ...   \n",
      "\n",
      "       EARLY_DELIVERIES  LATE_DELIVERIES  PACKAGE_LOCKER  REFRIGERATED_LOCKER  \\\n",
      "count       1946.000000      1946.000000     1946.000000          1946.000000   \n",
      "mean           1.486125         2.970709        0.355087             0.113052   \n",
      "std            2.318599         2.744598        0.478663             0.316738   \n",
      "min            0.000000         0.000000        0.000000             0.000000   \n",
      "25%            0.000000         1.000000        0.000000             0.000000   \n",
      "50%            0.000000         2.000000        0.000000             0.000000   \n",
      "75%            3.000000         4.000000        1.000000             0.000000   \n",
      "max            9.000000        19.000000        1.000000             1.000000   \n",
      "\n",
      "       AVG_PREP_VID_TIME  AVG_MEALS_ORDERED  MASTER_CLASSES_ATTENDED  \\\n",
      "count        1946.000000        1946.000000              1946.000000   \n",
      "mean          150.556578           4.437307                 0.604317   \n",
      "std            49.447180           1.549666                 0.641866   \n",
      "min            33.400000           1.000000                 0.000000   \n",
      "25%           114.400000           3.000000                 0.000000   \n",
      "50%           145.600000           4.000000                 1.000000   \n",
      "75%           173.775000           5.000000                 1.000000   \n",
      "max           564.200000          11.000000                 3.000000   \n",
      "\n",
      "       MEDIAN_MEAL_RATING  AVG_CLICKS_PER_VISIT  TOTAL_PHOTOS_VIEWED  \n",
      "count         1946.000000           1946.000000          1946.000000  \n",
      "mean             2.794964             13.508222           106.433710  \n",
      "std              0.756528              2.333876           181.014124  \n",
      "min              1.000000              5.000000             0.000000  \n",
      "25%              2.000000             12.000000             0.000000  \n",
      "50%              3.000000             13.000000             0.000000  \n",
      "75%              3.000000             15.000000           174.000000  \n",
      "max              5.000000             19.000000          1600.000000  \n",
      "\n",
      "[8 rows x 24 columns]\n",
      "\n",
      "Number of missing values in the dataset: 47\n"
     ]
    }
   ],
   "source": [
    "## EXPLORATORY DATA ANALYSIS ##\n",
    "\n",
    "# displaying the columns of the dataset\n",
    "print(\"\"\"\n",
    "EXPLORATORY DATA ANALYSIS\n",
    "\n",
    "Columns of the dataset:\\n\"\"\", apprentice.columns)\n",
    "\n",
    "# formatting and printing the dimensions of the dataset\n",
    "print(f\"\"\"\n",
    "Size of Original Dataset\n",
    "------------------------\n",
    "Observations: {apprentice.shape[0]}\n",
    "Features:     {apprentice.shape[1]}\n",
    "\"\"\")\n",
    "\n",
    "# checking descriptive statistics \n",
    "print(\"\"\"\n",
    "Descriptive statistics per column:\\n\"\"\", apprentice.describe())\n",
    "\n",
    "# checking for missing values (if there are any and how many)\n",
    "apprentice.isnull().any()\n",
    "print(\"\"\"\n",
    "Number of missing values in the dataset:\"\"\", apprentice.isnull().sum().sum())\n",
    "\n",
    "# Comment: since there are missing values only in the \"Family Name\" variable,\n",
    "# and the NAs cannot be inferred, we do not make any changes \n"
   ]
  },
  {
   "cell_type": "code",
   "execution_count": 7,
   "metadata": {
    "code_folding": []
   },
   "outputs": [
    {
     "data": {
      "image/png": "[encoded data removed]",
      "text/plain": [
       "<Figure size 720x360 with 1 Axes>"
      ]
     },
     "metadata": {
      "needs_background": "light"
     },
     "output_type": "display_data"
    },
    {
     "data": {
      "image/png": "[encoded data removed]",
      "text/plain": [
       "<Figure size 720x360 with 1 Axes>"
      ]
     },
     "metadata": {
      "needs_background": "light"
     },
     "output_type": "display_data"
    }
   ],
   "source": [
    "# developing a histogram to check the distribution of the dependent variable: Revenue\n",
    "sns.displot(data   = apprentice,\n",
    "            x      = 'REVENUE',\n",
    "            height = 5,\n",
    "            aspect = 2)\n",
    "\n",
    "\n",
    "\n",
    "plt.title(label   = \"Original Distribution of Revenue per Customer\")\n",
    "plt.xlabel(xlabel = \"Revenue\") \n",
    "plt.ylabel(ylabel = \"Count\")\n",
    "\n",
    "# displaying the histogram\n",
    "plt.show()\n",
    "\n",
    "# Comment: The data is continuous, positively skewed, and does not appear \n",
    "# to be normal. For this reason, we will then use a Logarithmic Transformation\n",
    "# on Revenue to see if its distribution changes.\n",
    "\n",
    "# creating a new column in the dataset to store the results of the transformation\n",
    "apprentice['log_REVENUE'] = np.log10(apprentice['REVENUE'])\n",
    "\n",
    "# creating an histogram to check the distribution of the transformed variable\n",
    "sns.displot(data   = apprentice,\n",
    "            x      = 'log_REVENUE',\n",
    "            height = 5,\n",
    "            aspect = 2)\n",
    "\n",
    "\n",
    "\n",
    "plt.title(label   = \"LOG Distribution of Revenue per Customer\")\n",
    "plt.xlabel(xlabel = \"Log_Revenue\") \n",
    "plt.ylabel(ylabel = \"Count\")\n",
    "\n",
    "# displaying the histogram\n",
    "plt.show()\n",
    "\n",
    "# Comment: by applying the log transformation, we can see that the distribution\n",
    "# of REVENUE becomes approximately normal"
   ]
  },
  {
   "cell_type": "code",
   "execution_count": 8,
   "metadata": {
    "code_folding": []
   },
   "outputs": [
    {
     "data": {
      "image/png": "[encoded data removed]",
      "text/plain": [
       "<Figure size 720x360 with 1 Axes>"
      ]
     },
     "metadata": {
      "needs_background": "light"
     },
     "output_type": "display_data"
    },
    {
     "data": {
      "image/png": "[encoded data removed]",
      "text/plain": [
       "<Figure size 720x360 with 1 Axes>"
      ]
     },
     "metadata": {
      "needs_background": "light"
     },
     "output_type": "display_data"
    },
    {
     "data": {
      "image/png": "[encoded data removed]",
      "text/plain": [
       "<Figure size 720x360 with 1 Axes>"
      ]
     },
     "metadata": {
      "needs_background": "light"
     },
     "output_type": "display_data"
    },
    {
     "data": {
      "text/plain": [
       "Text(3.674999999999997, 0.5, 'Count')"
      ]
     },
     "execution_count": 8,
     "metadata": {},
     "output_type": "execute_result"
    },
    {
     "data": {
      "image/png": "[encoded data removed]",
      "text/plain": [
       "<Figure size 720x360 with 1 Axes>"
      ]
     },
     "metadata": {
      "needs_background": "light"
     },
     "output_type": "display_data"
    }
   ],
   "source": [
    "# Check all the X-variables for skewness and use a Log Transformation if necessary\n",
    "\n",
    "## AVG_TIME_PER_SITE_VISIT\n",
    "sns.displot(data   = apprentice,\n",
    "            x      = 'AVG_TIME_PER_SITE_VISIT',\n",
    "            height = 5,\n",
    "            aspect = 2)\n",
    "\n",
    "\n",
    "\n",
    "plt.title(label   = \"Distribution of Average Time per Website Visit\")\n",
    "plt.xlabel(xlabel = \"AVG_TIME_PER_SITE_VISIT\") \n",
    "plt.ylabel(ylabel = \"Count\")\n",
    "\n",
    "# displaying the histogram\n",
    "plt.show()\n",
    "\n",
    "# creating a new column in the dataset to store the results of the transformation\n",
    "apprentice['log_AVG_TIME_PER_SITE_VISIT'] = np.log10(apprentice['AVG_TIME_PER_SITE_VISIT'])\n",
    "\n",
    "sns.displot(data   = apprentice,\n",
    "            x      = 'log_AVG_TIME_PER_SITE_VISIT',\n",
    "            height = 5,\n",
    "            aspect = 2)\n",
    "\n",
    "\n",
    "\n",
    "plt.title(label   = \"Distribution of Log.Average Time per Website Visit\")\n",
    "plt.xlabel(xlabel = \"log_AVG_TIME_PER_SITE_VISIT\") \n",
    "plt.ylabel(ylabel = \"Count\")\n",
    "\n",
    "\n",
    "\n",
    "\n",
    "## AVG_PREP_VID_TIME\n",
    "sns.displot(data   = apprentice,\n",
    "            x      = 'AVG_PREP_VID_TIME',\n",
    "            height = 5,\n",
    "            aspect = 2)\n",
    "\n",
    "\n",
    "\n",
    "plt.title(label   = \"Distribution of Average Time meal Video was playing\")\n",
    "plt.xlabel(xlabel = \"AVG_PREP_VID_TIME\") \n",
    "plt.ylabel(ylabel = \"Count\")\n",
    "\n",
    "# displaying the histogram\n",
    "plt.show()\n",
    "\n",
    "# creating a new column in the dataset to store the results of the transformation\n",
    "apprentice['log_AVG_PREP_VID_TIME'] = np.log10(apprentice['AVG_PREP_VID_TIME'])\n",
    "\n",
    "sns.displot(data   = apprentice,\n",
    "            x      = 'log_AVG_PREP_VID_TIME',\n",
    "            height = 5,\n",
    "            aspect = 2)\n",
    "\n",
    "\n",
    "\n",
    "plt.title(label   = \"Distribution of Log.Average Time meal Video was playing\")\n",
    "plt.xlabel(xlabel = \"log_AVG_PREP_VID_TIME\") \n",
    "plt.ylabel(ylabel = \"Count\")\n",
    "\n",
    "\n"
   ]
  },
  {
   "cell_type": "code",
   "execution_count": 9,
   "metadata": {
    "code_folding": []
   },
   "outputs": [
    {
     "data": {
      "text/plain": [
       "REVENUE                    1.00\n",
       "AVG_PREP_VID_TIME          0.64\n",
       "AVG_TIME_PER_SITE_VISIT    0.14\n",
       "Name: REVENUE, dtype: float64"
      ]
     },
     "execution_count": 9,
     "metadata": {},
     "output_type": "execute_result"
    }
   ],
   "source": [
    "## BASE MODELING ##\n",
    "\n",
    "# creating a list of continuous features to check their correlations, including Y\n",
    "continuous_data = ['REVENUE', 'AVG_TIME_PER_SITE_VISIT',\n",
    "                   'AVG_PREP_VID_TIME']\n",
    "\n",
    "# developing a correlation matrix based on continuous features\n",
    "apprentice_corr = apprentice[continuous_data].corr(method = 'pearson')\n",
    "\n",
    "\n",
    "# filtering the results to only show correlations with Revenue\n",
    "apprentice_corr.loc[ : , 'REVENUE'].round(decimals = 2).sort_values(ascending = False)"
   ]
  },
  {
   "cell_type": "code",
   "execution_count": 10,
   "metadata": {
    "code_folding": [
     0
    ]
   },
   "outputs": [
    {
     "data": {
      "image/png": "[encoded data removed]",
      "text/plain": [
       "<Figure size 648x432 with 1 Axes>"
      ]
     },
     "metadata": {
      "needs_background": "light"
     },
     "output_type": "display_data"
    },
    {
     "data": {
      "image/png": "[encoded data removed]",
      "text/plain": [
       "<Figure size 432x648 with 1 Axes>"
      ]
     },
     "metadata": {
      "needs_background": "light"
     },
     "output_type": "display_data"
    }
   ],
   "source": [
    "# creating a scatterplot for the variables with the strongest correlation \n",
    "# with Revenue to check the OLS assumptions \n",
    "\n",
    "# REVENUE vs AVG_PREP_VID_TIME\n",
    "# setting figure size\n",
    "fig, ax = plt.subplots(figsize = (9, 6))\n",
    "\n",
    "\n",
    "# developing a scatterplot\n",
    "sns.scatterplot(x    = 'AVG_PREP_VID_TIME',\n",
    "                y    = 'REVENUE',\n",
    "                data = apprentice)\n",
    "\n",
    "# Showing results \n",
    "plt.show()\n",
    "\n",
    "\n",
    "\n",
    "\n",
    "# REVENUE vs  AVG_TIME_PER_SITE_VISIT\n",
    "fig, ax = plt.subplots(figsize = (6, 9))\n",
    "sns.scatterplot(x    = 'AVG_TIME_PER_SITE_VISIT',\n",
    "                y    = 'REVENUE',\n",
    "                data = apprentice)\n",
    "plt.show()\n",
    "\n"
   ]
  },
  {
   "cell_type": "code",
   "execution_count": 11,
   "metadata": {
    "code_folding": [
     0
    ]
   },
   "outputs": [
    {
     "name": "stdout",
     "output_type": "stream",
     "text": [
      "                            OLS Regression Results                            \n",
      "==============================================================================\n",
      "Dep. Variable:            log_REVENUE   R-squared:                       0.451\n",
      "Model:                            OLS   Adj. R-squared:                  0.450\n",
      "Method:                 Least Squares   F-statistic:                     797.3\n",
      "Date:                Thu, 28 Jan 2021   Prob (F-statistic):          1.51e-253\n",
      "Time:                        14:51:58   Log-Likelihood:                 842.68\n",
      "No. Observations:                1946   AIC:                            -1679.\n",
      "Df Residuals:                    1943   BIC:                            -1663.\n",
      "Df Model:                           2                                         \n",
      "Covariance Type:            nonrobust                                         \n",
      "===============================================================================================\n",
      "                                  coef    std err          t      P>|t|      [0.025      0.975]\n",
      "-----------------------------------------------------------------------------------------------\n",
      "Intercept                       1.1152      0.058     19.338      0.000       1.002       1.228\n",
      "log_AVG_TIME_PER_SITE_VISIT    -0.0469      0.017     -2.749      0.006      -0.080      -0.013\n",
      "log_AVG_PREP_VID_TIME           1.0422      0.027     38.889      0.000       0.990       1.095\n",
      "==============================================================================\n",
      "Omnibus:                       61.057   Durbin-Watson:                   2.000\n",
      "Prob(Omnibus):                  0.000   Jarque-Bera (JB):              116.893\n",
      "Skew:                          -0.219   Prob(JB):                     4.14e-26\n",
      "Kurtosis:                       4.118   Cond. No.                         53.7\n",
      "==============================================================================\n",
      "\n",
      "Warnings:\n",
      "[1] Standard Errors assume that the covariance matrix of the errors is correctly specified.\n"
     ]
    }
   ],
   "source": [
    "## OLS MODEL\n",
    "\n",
    "# Building the OLS regression model, using log_REVENUE as dependent variable\n",
    "# and ONLY continuous variables\n",
    "lm_log_revenue = smf.ols(\"\"\"log_REVENUE ~ log_AVG_TIME_PER_SITE_VISIT + log_AVG_PREP_VID_TIME\"\"\",\n",
    "                         data=apprentice)\n",
    "\n",
    "results = lm_log_revenue.fit()\n",
    "\n",
    "print(results.summary())\n"
   ]
  },
  {
   "cell_type": "code",
   "execution_count": 12,
   "metadata": {},
   "outputs": [
    {
     "data": {
      "image/png": "[encoded data removed]",
      "text/plain": [
       "<Figure size 360x360 with 1 Axes>"
      ]
     },
     "metadata": {
      "needs_background": "light"
     },
     "output_type": "display_data"
    },
    {
     "data": {
      "image/png": "[encoded data removed]",
      "text/plain": [
       "<Figure size 360x360 with 1 Axes>"
      ]
     },
     "metadata": {
      "needs_background": "light"
     },
     "output_type": "display_data"
    },
    {
     "data": {
      "image/png": "[encoded data removed]",
      "text/plain": [
       "<Figure size 360x360 with 1 Axes>"
      ]
     },
     "metadata": {
      "needs_background": "light"
     },
     "output_type": "display_data"
    },
    {
     "data": {
      "image/png": "[encoded data removed]",
      "text/plain": [
       "<Figure size 360x360 with 1 Axes>"
      ]
     },
     "metadata": {
      "needs_background": "light"
     },
     "output_type": "display_data"
    },
    {
     "data": {
      "image/png": "[encoded data removed]",
      "text/plain": [
       "<Figure size 360x360 with 1 Axes>"
      ]
     },
     "metadata": {
      "needs_background": "light"
     },
     "output_type": "display_data"
    },
    {
     "data": {
      "image/png": "[encoded data removed]",
      "text/plain": [
       "<Figure size 360x360 with 1 Axes>"
      ]
     },
     "metadata": {
      "needs_background": "light"
     },
     "output_type": "display_data"
    },
    {
     "data": {
      "image/png": "[encoded data removed]",
      "text/plain": [
       "<Figure size 360x360 with 1 Axes>"
      ]
     },
     "metadata": {
      "needs_background": "light"
     },
     "output_type": "display_data"
    },
    {
     "data": {
      "image/png": "[encoded data removed]",
      "text/plain": [
       "<Figure size 360x360 with 1 Axes>"
      ]
     },
     "metadata": {
      "needs_background": "light"
     },
     "output_type": "display_data"
    },
    {
     "data": {
      "image/png": "[encoded data removed]",
      "text/plain": [
       "<Figure size 360x360 with 1 Axes>"
      ]
     },
     "metadata": {
      "needs_background": "light"
     },
     "output_type": "display_data"
    },
    {
     "data": {
      "image/png": "[encoded data removed]",
      "text/plain": [
       "<Figure size 360x360 with 1 Axes>"
      ]
     },
     "metadata": {
      "needs_background": "light"
     },
     "output_type": "display_data"
    }
   ],
   "source": [
    "# Applying Log transformations to other variables\n",
    "\n",
    "# TOTAL_MEALS_ORDERED \n",
    "apprentice['log_TOTAL_MEALS_ORDERED'] = np.log10(apprentice['TOTAL_MEALS_ORDERED'])\n",
    "sns.displot( apprentice , x =\"TOTAL_MEALS_ORDERED\")\n",
    "sns.displot( apprentice , x =\"log_TOTAL_MEALS_ORDERED\")\n",
    "\n",
    "# UNIQUE_MEALS_PURCH \n",
    "apprentice['log_UNIQUE_MEALS_PURCH'] = np.log10(apprentice['UNIQUE_MEALS_PURCH'])\n",
    "sns.displot( apprentice , x =\"UNIQUE_MEALS_PURCH\")\n",
    "sns.displot( apprentice , x =\"log_UNIQUE_MEALS_PURCH\")\n",
    "\n",
    "# CONTACTS_W_CUSTOMER_SERVICE \n",
    "apprentice['log_CONTACTS_W_CUSTOMER_SERVICE'] = np.log10(apprentice['CONTACTS_W_CUSTOMER_SERVICE'])\n",
    "sns.displot( apprentice , x =\"CONTACTS_W_CUSTOMER_SERVICE\")\n",
    "sns.displot( apprentice , x =\"log_CONTACTS_W_CUSTOMER_SERVICE\")\n",
    "\n",
    "# PRODUCT_CATEGORIES_VIEWED \n",
    "apprentice['log_PRODUCT_CATEGORIES_VIEWED'] = np.log10(apprentice['PRODUCT_CATEGORIES_VIEWED'])\n",
    "sns.displot( apprentice , x =\"PRODUCT_CATEGORIES_VIEWED\")\n",
    "sns.displot( apprentice , x =\"log_PRODUCT_CATEGORIES_VIEWED\")\n",
    "\n",
    "# AVG_MEAL_ORDERED_PER_CUST \n",
    "apprentice['log_AVG_MEALS_ORDERED'] = np.log10(apprentice['AVG_MEALS_ORDERED'])\n",
    "sns.displot( apprentice , x =\"AVG_MEALS_ORDERED\")\n",
    "sns.displot( apprentice , x =\"log_AVG_MEALS_ORDERED\")\n",
    "\n",
    "apprentice['log_MEDIAN_MEAL_RATING'] = np.log10(apprentice['MEDIAN_MEAL_RATING'])\n"
   ]
  },
  {
   "cell_type": "code",
   "execution_count": 13,
   "metadata": {
    "code_folding": [
     0
    ]
   },
   "outputs": [
    {
     "name": "stdout",
     "output_type": "stream",
     "text": [
      "                            OLS Regression Results                            \n",
      "==============================================================================\n",
      "Dep. Variable:            log_REVENUE   R-squared:                       0.705\n",
      "Model:                            OLS   Adj. R-squared:                  0.702\n",
      "Method:                 Least Squares   F-statistic:                     209.0\n",
      "Date:                Thu, 28 Jan 2021   Prob (F-statistic):               0.00\n",
      "Time:                        14:52:08   Log-Likelihood:                 1447.9\n",
      "No. Observations:                1946   AIC:                            -2850.\n",
      "Df Residuals:                    1923   BIC:                            -2722.\n",
      "Df Model:                          22                                         \n",
      "Covariance Type:            nonrobust                                         \n",
      "===============================================================================================\n",
      "                                  coef    std err          t      P>|t|      [0.025      0.975]\n",
      "-----------------------------------------------------------------------------------------------\n",
      "Intercept                       1.5800      0.091     17.406      0.000       1.402       1.758\n",
      "log_AVG_TIME_PER_SITE_VISIT    -0.0592      0.013     -4.499      0.000      -0.085      -0.033\n",
      "log_AVG_PREP_VID_TIME           0.5840      0.038     15.291      0.000       0.509       0.659\n",
      "log_TOTAL_MEALS_ORDERED         0.2544      0.012     21.493      0.000       0.231       0.278\n",
      "CROSS_SELL_SUCCESS             -0.0134      0.006     -2.325      0.020      -0.025      -0.002\n",
      "PACKAGE_LOCKER                 -0.0076      0.006     -1.214      0.225      -0.020       0.005\n",
      "UNIQUE_MEALS_PURCH             -0.0106      0.001     -9.841      0.000      -0.013      -0.009\n",
      "CONTACTS_W_CUSTOMER_SERVICE     0.0071      0.001      5.616      0.000       0.005       0.010\n",
      "PRODUCT_CATEGORIES_VIEWED       0.0016      0.001      1.785      0.074      -0.000       0.003\n",
      "AVG_MEALS_ORDERED              -0.0160      0.003     -5.525      0.000      -0.022      -0.010\n",
      "AVG_CLICKS_PER_VISIT           -0.0020      0.002     -0.924      0.356      -0.006       0.002\n",
      "CANCELLATIONS_BEFORE_NOON       0.0012      0.002      0.694      0.488      -0.002       0.005\n",
      "CANCELLATIONS_AFTER_NOON       -0.0094      0.006     -1.540      0.124      -0.021       0.003\n",
      "PC_LOGINS                      -0.0003      0.005     -0.066      0.948      -0.009       0.009\n",
      "MOBILE_LOGINS                  -0.0043      0.005     -0.852      0.394      -0.014       0.006\n",
      "WEEKLY_PLAN                 -6.187e-05      0.000     -0.319      0.750      -0.000       0.000\n",
      "EARLY_DELIVERIES               -0.0010      0.001     -0.849      0.396      -0.003       0.001\n",
      "LATE_DELIVERIES                -0.0003      0.001     -0.313      0.755      -0.002       0.002\n",
      "MEDIAN_MEAL_RATING              0.0632      0.007      8.750      0.000       0.049       0.077\n",
      "REFRIGERATED_LOCKER            -0.0060      0.010     -0.636      0.525      -0.025       0.013\n",
      "TASTES_AND_PREFERENCES          0.0115      0.006      1.959      0.050   -1.28e-05       0.023\n",
      "MASTER_CLASSES_ATTENDED         0.0307      0.005      6.386      0.000       0.021       0.040\n",
      "TOTAL_PHOTOS_VIEWED          9.268e-05   1.65e-05      5.623      0.000    6.04e-05       0.000\n",
      "==============================================================================\n",
      "Omnibus:                      132.039   Durbin-Watson:                   2.092\n",
      "Prob(Omnibus):                  0.000   Jarque-Bera (JB):              492.579\n",
      "Skew:                          -0.233   Prob(JB):                    1.09e-107\n",
      "Kurtosis:                       5.420   Cond. No.                     7.64e+03\n",
      "==============================================================================\n",
      "\n",
      "Warnings:\n",
      "[1] Standard Errors assume that the covariance matrix of the errors is correctly specified.\n",
      "[2] The condition number is large, 7.64e+03. This might indicate that there are\n",
      "strong multicollinearity or other numerical problems.\n"
     ]
    }
   ],
   "source": [
    "## Running a OLS MODEL with all of the variables to check the SIGNIFICANT ones\n",
    "\n",
    "lm_log_revenue = smf.ols(formula = \"\"\"log_REVENUE ~   log_AVG_TIME_PER_SITE_VISIT +\n",
    "                                                      log_AVG_PREP_VID_TIME +\n",
    "                                                      log_TOTAL_MEALS_ORDERED +\n",
    "                                                      CROSS_SELL_SUCCESS +\n",
    "                                                      PACKAGE_LOCKER +\n",
    "                                                      UNIQUE_MEALS_PURCH +\n",
    "                                                      CONTACTS_W_CUSTOMER_SERVICE +\n",
    "                                                      PRODUCT_CATEGORIES_VIEWED +\n",
    "                                                      AVG_MEALS_ORDERED +\n",
    "                                                      AVG_CLICKS_PER_VISIT +\n",
    "                                                      CANCELLATIONS_BEFORE_NOON +\n",
    "                                                      CANCELLATIONS_AFTER_NOON +\n",
    "                                                      PC_LOGINS +\n",
    "                                                      MOBILE_LOGINS +\n",
    "                                                      WEEKLY_PLAN +\n",
    "                                                      EARLY_DELIVERIES +\n",
    "                                                      LATE_DELIVERIES +\n",
    "                                                      MEDIAN_MEAL_RATING +\n",
    "                                                      REFRIGERATED_LOCKER +\n",
    "                                                      TASTES_AND_PREFERENCES +\n",
    "                                                      MASTER_CLASSES_ATTENDED +\n",
    "                                                      TOTAL_PHOTOS_VIEWED\n",
    "                                                    \n",
    "                                                      \"\"\",\n",
    "                         \n",
    "                         \n",
    "                         data = apprentice)\n",
    "\n",
    "\n",
    "# telling Python to FIT the data to the blueprint\n",
    "results = lm_log_revenue.fit()\n",
    "\n",
    "\n",
    "# printing a summary of the results\n",
    "print(results.summary())\n",
    "\n"
   ]
  },
  {
   "cell_type": "code",
   "execution_count": 14,
   "metadata": {
    "code_folding": [
     0
    ]
   },
   "outputs": [
    {
     "name": "stdout",
     "output_type": "stream",
     "text": [
      "                            OLS Regression Results                            \n",
      "==============================================================================\n",
      "Dep. Variable:            log_REVENUE   R-squared:                       0.727\n",
      "Model:                            OLS   Adj. R-squared:                  0.726\n",
      "Method:                 Least Squares   F-statistic:                     515.2\n",
      "Date:                Thu, 28 Jan 2021   Prob (F-statistic):               0.00\n",
      "Time:                        14:52:13   Log-Likelihood:                 1522.7\n",
      "No. Observations:                1946   AIC:                            -3023.\n",
      "Df Residuals:                    1935   BIC:                            -2962.\n",
      "Df Model:                          10                                         \n",
      "Covariance Type:            nonrobust                                         \n",
      "===================================================================================================\n",
      "                                      coef    std err          t      P>|t|      [0.025      0.975]\n",
      "---------------------------------------------------------------------------------------------------\n",
      "Intercept                           1.4000      0.066     21.061      0.000       1.270       1.530\n",
      "log_AVG_PREP_VID_TIME               0.5399      0.036     14.797      0.000       0.468       0.611\n",
      "log_TOTAL_MEALS_ORDERED             0.3314      0.022     15.000      0.000       0.288       0.375\n",
      "TOTAL_MEALS_ORDERED                -0.0004      0.000     -3.816      0.000      -0.001      -0.000\n",
      "log_UNIQUE_MEALS_PURCH             -0.1595      0.009    -17.017      0.000      -0.178      -0.141\n",
      "log_CONTACTS_W_CUSTOMER_SERVICE     0.1631      0.021      7.919      0.000       0.123       0.204\n",
      "log_AVG_MEALS_ORDERED              -0.1311      0.027     -4.937      0.000      -0.183      -0.079\n",
      "CROSS_SELL_SUCCESS                 -0.0126      0.005     -2.334      0.020      -0.023      -0.002\n",
      "MASTER_CLASSES_ATTENDED             0.0282      0.005      6.156      0.000       0.019       0.037\n",
      "TOTAL_PHOTOS_VIEWED                 0.0001   1.59e-05      6.329      0.000    6.94e-05       0.000\n",
      "MEDIAN_MEAL_RATING                  0.0646      0.004     14.960      0.000       0.056       0.073\n",
      "==============================================================================\n",
      "Omnibus:                      232.122   Durbin-Watson:                   2.060\n",
      "Prob(Omnibus):                  0.000   Jarque-Bera (JB):              910.106\n",
      "Skew:                          -0.533   Prob(JB):                    2.36e-198\n",
      "Kurtosis:                       6.176   Cond. No.                     6.54e+03\n",
      "==============================================================================\n",
      "\n",
      "Warnings:\n",
      "[1] Standard Errors assume that the covariance matrix of the errors is correctly specified.\n",
      "[2] The condition number is large, 6.54e+03. This might indicate that there are\n",
      "strong multicollinearity or other numerical problems.\n"
     ]
    }
   ],
   "source": [
    "# Removing the insignificant variables and re-run the OLS regression\n",
    "\n",
    "lm_log_revenue = smf.ols(formula = \"\"\"log_REVENUE ~   log_AVG_PREP_VID_TIME +                                                     log_TOTAL_MEALS_ORDERED +\n",
    "                                                      TOTAL_MEALS_ORDERED +\n",
    "                                                      log_UNIQUE_MEALS_PURCH +\n",
    "                                                      \n",
    "                                                      log_CONTACTS_W_CUSTOMER_SERVICE +\n",
    "                                                      log_AVG_MEALS_ORDERED +\n",
    "                                                      CROSS_SELL_SUCCESS+\n",
    "                                                      MASTER_CLASSES_ATTENDED +\n",
    "                                                      TOTAL_PHOTOS_VIEWED +\n",
    "                                                      MEDIAN_MEAL_RATING\n",
    "                                                      \"\"\",\n",
    "                         \n",
    "                         \n",
    "                         data = apprentice)\n",
    "\n",
    "\n",
    "# telling Python to FIT the data to the blueprint\n",
    "results = lm_log_revenue.fit()\n",
    "\n",
    "\n",
    "# printing a summary of the results\n",
    "print(results.summary())\n"
   ]
  },
  {
   "cell_type": "code",
   "execution_count": null,
   "metadata": {},
   "outputs": [],
   "source": [
    "apprentice"
   ]
  },
  {
   "cell_type": "code",
   "execution_count": 15,
   "metadata": {},
   "outputs": [
    {
     "name": "stdout",
     "output_type": "stream",
     "text": [
      "\n",
      "Training Data\n",
      "-------------\n",
      "X-side: (1459, 31)\n",
      "y-side: (1459,)\n",
      "\n",
      "\n",
      "Testing Data\n",
      "------------\n",
      "X-side: (487, 31)\n",
      "y-side: (487,)\n",
      "\n"
     ]
    }
   ],
   "source": [
    "# preparing explanatory variable data\n",
    "apprentice_data = apprentice.drop(['NAME','EMAIL','FIRST_NAME','FAMILY_NAME',\n",
    "                                  'REVENUE', 'log_REVENUE'],\n",
    "                                    axis = 1)\n",
    "# preparing response variable data\n",
    "apprentice_Y = apprentice['REVENUE']\n",
    "log_apprentice_Y = apprentice['log_REVENUE']\n",
    "\n",
    "# creating 2 different splits, one for the normal Y and one for log Y\n",
    "x_train, x_test, y_train, y_test = train_test_split(\n",
    "            apprentice_data,\n",
    "            apprentice_Y,\n",
    "            test_size = 0.25,\n",
    "            random_state = 219)\n",
    "\n",
    "x_trainL, x_testL, y_trainL, y_testL = train_test_split(\n",
    "            apprentice_data,\n",
    "            log_apprentice_Y,\n",
    "            test_size = 0.25,\n",
    "            random_state = 219)\n",
    "\n",
    "# checking the shapes of the datasets\n",
    "print(f\"\"\"\n",
    "Training Data\n",
    "-------------\n",
    "X-side: {x_train.shape}\n",
    "y-side: {y_train.shape}\n",
    "\n",
    "\n",
    "Testing Data\n",
    "------------\n",
    "X-side: {x_test.shape}\n",
    "y-side: {y_test.shape}\n",
    "\"\"\")"
   ]
  },
  {
   "cell_type": "code",
   "execution_count": 21,
   "metadata": {},
   "outputs": [
    {
     "name": "stdout",
     "output_type": "stream",
     "text": [
      "log_AVG_PREP_VID_TIME +\n",
      "TOTAL_MEALS_ORDERED +\n",
      "log_TOTAL_MEALS_ORDERED +\n",
      "log_UNIQUE_MEALS_PURCH +\n",
      "UNIQUE_MEALS_PURCH +\n",
      "log_CONTACTS_W_CUSTOMER_SERVICE +\n",
      "CONTACTS_W_CUSTOMER_SERVICE +\n",
      "log_AVG_MEALS_ORDERED +\n",
      "AVG_MEALS_ORDERED +\n",
      "CROSS_SELL_SUCCESS +\n",
      "MASTER_CLASSES_ATTENDED +\n",
      "TOTAL_PHOTOS_VIEWED +\n",
      "MEDIAN_MEAL_RATING +\n",
      "log_MEDIAN_MEAL_RATING +\n"
     ]
    }
   ],
   "source": [
    "# declaring set of x-variables\n",
    "x_variables = ['log_AVG_PREP_VID_TIME',\n",
    "                'TOTAL_MEALS_ORDERED',\n",
    "               'log_TOTAL_MEALS_ORDERED',\n",
    "                'log_UNIQUE_MEALS_PURCH',\n",
    "               'UNIQUE_MEALS_PURCH',\n",
    "                'log_CONTACTS_W_CUSTOMER_SERVICE',\n",
    "               'CONTACTS_W_CUSTOMER_SERVICE',\n",
    "                'log_AVG_MEALS_ORDERED', \n",
    "               'AVG_MEALS_ORDERED',\n",
    "                'CROSS_SELL_SUCCESS',\n",
    "               'MASTER_CLASSES_ATTENDED' ,\n",
    "               'TOTAL_PHOTOS_VIEWED' ,\n",
    "               'MEDIAN_MEAL_RATING',\n",
    "              'log_MEDIAN_MEAL_RATING']\n",
    "\n",
    "\n",
    "# looping to make x-variables suitable for statsmodels\n",
    "for val in x_variables:\n",
    "    print(f\"{val} +\")"
   ]
  },
  {
   "cell_type": "code",
   "execution_count": 33,
   "metadata": {},
   "outputs": [
    {
     "name": "stdout",
     "output_type": "stream",
     "text": [
      "                            OLS Regression Results                            \n",
      "==============================================================================\n",
      "Dep. Variable:            log_REVENUE   R-squared:                       0.771\n",
      "Model:                            OLS   Adj. R-squared:                  0.770\n",
      "Method:                 Least Squares   F-statistic:                     406.8\n",
      "Date:                Thu, 28 Jan 2021   Prob (F-statistic):               0.00\n",
      "Time:                        15:58:01   Log-Likelihood:                 1288.4\n",
      "No. Observations:                1459   AIC:                            -2551.\n",
      "Df Residuals:                    1446   BIC:                            -2482.\n",
      "Df Model:                          12                                         \n",
      "Covariance Type:            nonrobust                                         \n",
      "===================================================================================================\n",
      "                                      coef    std err          t      P>|t|      [0.025      0.975]\n",
      "---------------------------------------------------------------------------------------------------\n",
      "Intercept                           1.3108      0.073     17.875      0.000       1.167       1.455\n",
      "log_AVG_PREP_VID_TIME               0.5308      0.039     13.594      0.000       0.454       0.607\n",
      "TOTAL_MEALS_ORDERED                -0.0009      0.000     -7.123      0.000      -0.001      -0.001\n",
      "log_TOTAL_MEALS_ORDERED             0.4108      0.024     16.960      0.000       0.363       0.458\n",
      "log_UNIQUE_MEALS_PURCH             -0.6228      0.030    -20.935      0.000      -0.681      -0.564\n",
      "UNIQUE_MEALS_PURCH                  0.0524      0.003     16.127      0.000       0.046       0.059\n",
      "log_CONTACTS_W_CUSTOMER_SERVICE     0.1523      0.022      6.987      0.000       0.110       0.195\n",
      "AVG_MEALS_ORDERED                  -0.0152      0.003     -5.139      0.000      -0.021      -0.009\n",
      "CROSS_SELL_SUCCESS                 -0.0157      0.006     -2.783      0.005      -0.027      -0.005\n",
      "MASTER_CLASSES_ATTENDED             0.0286      0.005      6.029      0.000       0.019       0.038\n",
      "TOTAL_PHOTOS_VIEWED                 0.0001   1.67e-05      6.284      0.000    7.21e-05       0.000\n",
      "MEDIAN_MEAL_RATING                  0.1447      0.016      8.833      0.000       0.113       0.177\n",
      "log_MEDIAN_MEAL_RATING             -0.4594      0.088     -5.202      0.000      -0.633      -0.286\n",
      "==============================================================================\n",
      "Omnibus:                      229.246   Durbin-Watson:                   2.037\n",
      "Prob(Omnibus):                  0.000   Jarque-Bera (JB):              977.464\n",
      "Skew:                          -0.689   Prob(JB):                    5.58e-213\n",
      "Kurtosis:                       6.766   Cond. No.                     7.64e+03\n",
      "==============================================================================\n",
      "\n",
      "Warnings:\n",
      "[1] Standard Errors assume that the covariance matrix of the errors is correctly specified.\n",
      "[2] The condition number is large, 7.64e+03. This might indicate that there are\n",
      "strong multicollinearity or other numerical problems.\n"
     ]
    }
   ],
   "source": [
    "# OLS will be run with LOG_REVENUE as a dependent variable, since the model has higher score\n",
    "\n",
    "# merging X_train and y_train so that they can be used in statsmodels\n",
    "apprentice_train = pd.concat([x_trainL, y_trainL], axis = 1)\n",
    "\n",
    "lm_best = smf.ols(formula = \"\"\"log_REVENUE ~  \n",
    "                                    log_AVG_PREP_VID_TIME +\n",
    "                                    TOTAL_MEALS_ORDERED +\n",
    "                                    log_TOTAL_MEALS_ORDERED +\n",
    "                                    log_UNIQUE_MEALS_PURCH +\n",
    "                                    UNIQUE_MEALS_PURCH +\n",
    "                                    log_CONTACTS_W_CUSTOMER_SERVICE +\n",
    "                                    \n",
    "                                    \n",
    "                                    AVG_MEALS_ORDERED +\n",
    "                                    CROSS_SELL_SUCCESS +\n",
    "                                    MASTER_CLASSES_ATTENDED +\n",
    "                                    TOTAL_PHOTOS_VIEWED +\n",
    "                                    MEDIAN_MEAL_RATING +\n",
    "                                    log_MEDIAN_MEAL_RATING \n",
    "                                                                      \"\"\",\n",
    "                        \n",
    "                         \n",
    "                         data = apprentice_train)\n",
    "\n",
    "results = lm_best.fit()\n",
    "\n",
    "\n",
    "print(results.summary())"
   ]
  },
  {
   "cell_type": "code",
   "execution_count": 22,
   "metadata": {},
   "outputs": [],
   "source": [
    "# applying model in scikit-learn\n",
    "\n",
    "# Preparing a DataFrame based the the analysis above\n",
    "ols_data   = apprentice.loc[ : , x_variables]\n",
    "\n",
    "\n",
    "###############################################\n",
    "## setting up more than one train-test split ##\n",
    "###############################################\n",
    "# FULL X-dataset (normal Y)\n",
    "x_train_FULL, x_test_FULL, y_train_FULL, y_test_FULL = train_test_split(\n",
    "            apprentice_data,     # x-variables\n",
    "            log_apprentice_Y,    # y-variable\n",
    "            test_size = 0.25,\n",
    "            random_state = 219)\n",
    "\n",
    "\n",
    "# OLS p-value x-dataset (normal Y)\n",
    "x_train_OLS, x_test_OLS, y_train_OLS, y_test_OLS = train_test_split(\n",
    "            ols_data,             # x-variables\n",
    "            log_apprentice_Y,     # y-variable\n",
    "            test_size = 0.25,\n",
    "            random_state = 219)\n"
   ]
  },
  {
   "cell_type": "code",
   "execution_count": 23,
   "metadata": {},
   "outputs": [
    {
     "name": "stdout",
     "output_type": "stream",
     "text": [
      "OLS Training Score : 0.7716\n",
      "OLS Testing Score  : 0.7662\n",
      "OLS Train-Test Gap : 0.0054\n"
     ]
    }
   ],
   "source": [
    "# INSTANTIATING a model object\n",
    "lr = LinearRegression()\n",
    "\n",
    "\n",
    "# FITTING to the training data\n",
    "lr_fit = lr.fit(x_train_OLS, y_train_OLS)\n",
    "\n",
    "\n",
    "# PREDICTING on new data\n",
    "lr_pred = lr_fit.predict(x_test_OLS)\n",
    "\n",
    "\n",
    "# SCORING the results\n",
    "print('OLS Training Score :', lr.score(x_train_OLS, y_train_OLS).round(4))\n",
    "print('OLS Testing Score  :', lr.score(x_test_OLS, y_test_OLS).round(4))\n",
    "\n",
    "\n",
    "# saving scoring data for future use\n",
    "lr_train_score = lr.score(x_train_OLS, y_train_OLS).round(4) # using R-square\n",
    "lr_test_score  = lr.score(x_test_OLS, y_test_OLS).round(4)   # using R-square\n",
    "\n",
    "\n",
    "# displaying and saving the gap between training and testing\n",
    "print('OLS Train-Test Gap :', abs(lr_train_score - lr_test_score).round(4))\n",
    "lr_test_gap = abs(lr_train_score - lr_test_score).round(4)"
   ]
  },
  {
   "cell_type": "code",
   "execution_count": 25,
   "metadata": {},
   "outputs": [
    {
     "name": "stdout",
     "output_type": "stream",
     "text": [
      "('intercept', 1.31)\n",
      "('log_AVG_PREP_VID_TIME', 0.53)\n",
      "('TOTAL_MEALS_ORDERED', -0.0)\n",
      "('log_TOTAL_MEALS_ORDERED', 0.4)\n",
      "('log_UNIQUE_MEALS_PURCH', -0.62)\n",
      "('UNIQUE_MEALS_PURCH', 0.05)\n",
      "('log_CONTACTS_W_CUSTOMER_SERVICE', 0.2)\n",
      "('CONTACTS_W_CUSTOMER_SERVICE', -0.0)\n",
      "('log_AVG_MEALS_ORDERED', 0.04)\n",
      "('AVG_MEALS_ORDERED', -0.02)\n",
      "('CROSS_SELL_SUCCESS', -0.02)\n",
      "('MASTER_CLASSES_ATTENDED', 0.03)\n",
      "('TOTAL_PHOTOS_VIEWED', 0.0)\n",
      "('MEDIAN_MEAL_RATING', 0.15)\n",
      "('log_MEDIAN_MEAL_RATING', -0.47)\n"
     ]
    }
   ],
   "source": [
    "# zipping each feature name to its coefficient\n",
    "lr_model_values = zip(apprentice_data[x_variables].columns,\n",
    "                      lr_fit.coef_.round(decimals = 2))\n",
    "\n",
    "\n",
    "# setting up a placeholder list to store model features\n",
    "lr_model_lst = [('intercept', lr_fit.intercept_.round(decimals = 2))]\n",
    "\n",
    "\n",
    "# printing out each feature-coefficient pair one by one\n",
    "for val in lr_model_values:\n",
    "    lr_model_lst.append(val)\n",
    "    \n",
    "\n",
    "# checking the results\n",
    "for pair in lr_model_lst:\n",
    "    print(pair)"
   ]
  },
  {
   "cell_type": "code",
   "execution_count": 26,
   "metadata": {
    "code_folding": [
     0
    ]
   },
   "outputs": [
    {
     "name": "stdout",
     "output_type": "stream",
     "text": [
      "Lasso Training Score : 0.6523\n",
      "Lasso Testing Score  : 0.6672\n",
      "Lasso Train-Test Gap : 0.0149\n"
     ]
    }
   ],
   "source": [
    "# # LASSO MODEL WITH NORMAL Y\n",
    "import sklearn.linear_model # linear models\n",
    "# INSTANTIATING a model object\n",
    "\n",
    "\n",
    "\n",
    "lasso_model = sklearn.linear_model.Lasso(alpha     = 1.0,  # default shrinkage\n",
    "                                         normalize = True) # default magitude\n",
    "\n",
    "\n",
    "# FITTING to the training data\n",
    "lasso_fit = lasso_model.fit(x_train, y_train)\n",
    "\n",
    "\n",
    "# PREDICTING on new data\n",
    "lasso_pred = lasso_fit.predict(x_test)\n",
    "\n",
    "\n",
    "# SCORING the results\n",
    "print('Lasso Training Score :', lasso_model.score(x_train, y_train).round(4))\n",
    "print('Lasso Testing Score  :', lasso_model.score(x_test, y_test).round(4))\n",
    "\n",
    "\n",
    "## the following code has been provided for you ##\n",
    "\n",
    "# saving scoring data for future use\n",
    "lasso_train_score = lasso_model.score(x_train, y_train).round(4) # using R-square\n",
    "lasso_test_score  = lasso_model.score(x_test, y_test).round(4)   # using R-square\n",
    "\n",
    "\n",
    "# displaying and saving the gap between training and testing\n",
    "print('Lasso Train-Test Gap :', abs(lasso_train_score - lasso_test_score).round(4))\n",
    "lasso_test_gap = abs(lasso_train_score - lasso_test_score).round(4)"
   ]
  },
  {
   "cell_type": "code",
   "execution_count": 27,
   "metadata": {
    "code_folding": [
     0
    ]
   },
   "outputs": [
    {
     "name": "stdout",
     "output_type": "stream",
     "text": [
      "('intercept', -921.63)\n",
      "('CROSS_SELL_SUCCESS', -0.0)\n",
      "('TOTAL_MEALS_ORDERED', 2.8)\n",
      "('UNIQUE_MEALS_PURCH', 0.0)\n",
      "('CONTACTS_W_CUSTOMER_SERVICE', 0.0)\n",
      "('PRODUCT_CATEGORIES_VIEWED', 0.0)\n",
      "('AVG_TIME_PER_SITE_VISIT', -0.0)\n",
      "('MOBILE_NUMBER', 0.0)\n",
      "('CANCELLATIONS_BEFORE_NOON', 0.0)\n",
      "('CANCELLATIONS_AFTER_NOON', -0.0)\n",
      "('TASTES_AND_PREFERENCES', 0.0)\n",
      "('PC_LOGINS', -0.0)\n",
      "('MOBILE_LOGINS', -0.0)\n",
      "('WEEKLY_PLAN', 0.0)\n",
      "('EARLY_DELIVERIES', -0.0)\n",
      "('LATE_DELIVERIES', 0.0)\n",
      "('PACKAGE_LOCKER', -0.0)\n",
      "('REFRIGERATED_LOCKER', -0.0)\n",
      "('AVG_PREP_VID_TIME', 6.02)\n",
      "('AVG_MEALS_ORDERED', -0.0)\n",
      "('MASTER_CLASSES_ATTENDED', 136.73)\n",
      "('MEDIAN_MEAL_RATING', 277.09)\n",
      "('AVG_CLICKS_PER_VISIT', -17.51)\n",
      "('TOTAL_PHOTOS_VIEWED', 0.62)\n",
      "('log_AVG_TIME_PER_SITE_VISIT', -0.0)\n",
      "('log_AVG_PREP_VID_TIME', 0.0)\n",
      "('log_TOTAL_MEALS_ORDERED', 602.49)\n",
      "('log_UNIQUE_MEALS_PURCH', -768.27)\n",
      "('log_CONTACTS_W_CUSTOMER_SERVICE', 762.88)\n",
      "('log_PRODUCT_CATEGORIES_VIEWED', 0.0)\n",
      "('log_AVG_MEALS_ORDERED', -0.0)\n",
      "('log_MEDIAN_MEAL_RATING', 0.0)\n"
     ]
    }
   ],
   "source": [
    "# zipping each feature name to its coefficient\n",
    "lasso_model_values = zip(apprentice_data.columns, lasso_fit.coef_.round(decimals = 2))\n",
    "\n",
    "\n",
    "# setting up a placeholder list to store model features\n",
    "lasso_model_lst = [('intercept', lasso_fit.intercept_.round(decimals = 2))]\n",
    "\n",
    "\n",
    "# printing out each feature-coefficient pair one by one\n",
    "for val in lasso_model_values:\n",
    "    lasso_model_lst.append(val)\n",
    "    \n",
    "\n",
    "# checking the results\n",
    "for pair in lasso_model_lst:\n",
    "    print(pair)"
   ]
  },
  {
   "cell_type": "code",
   "execution_count": 28,
   "metadata": {
    "code_folding": [
     0
    ]
   },
   "outputs": [
    {
     "name": "stdout",
     "output_type": "stream",
     "text": [
      "('intercept', -921.63)\n",
      "('TOTAL_MEALS_ORDERED', 2.8)\n",
      "('CONTACTS_W_CUSTOMER_SERVICE', 0.0)\n",
      "('AVG_TIME_PER_SITE_VISIT', -0.0)\n",
      "('CANCELLATIONS_BEFORE_NOON', 0.0)\n",
      "('TASTES_AND_PREFERENCES', 0.0)\n",
      "('MOBILE_LOGINS', -0.0)\n",
      "('EARLY_DELIVERIES', -0.0)\n",
      "('PACKAGE_LOCKER', -0.0)\n",
      "('AVG_PREP_VID_TIME', 6.02)\n",
      "('MASTER_CLASSES_ATTENDED', 136.73)\n",
      "('MEDIAN_MEAL_RATING', 277.09)\n",
      "('AVG_CLICKS_PER_VISIT', -17.51)\n",
      "('TOTAL_PHOTOS_VIEWED', 0.62)\n",
      "('log_AVG_PREP_VID_TIME', 0.0)\n",
      "('log_TOTAL_MEALS_ORDERED', 602.49)\n",
      "('log_UNIQUE_MEALS_PURCH', -768.27)\n",
      "('log_CONTACTS_W_CUSTOMER_SERVICE', 762.88)\n",
      "('log_AVG_MEALS_ORDERED', -0.0)\n"
     ]
    }
   ],
   "source": [
    "# dropping coefficients that are equal to zero\n",
    "\n",
    "# printing out each feature-coefficient pair one by one\n",
    "for feature, coefficient in lasso_model_lst:\n",
    "        \n",
    "        if coefficient == 0:\n",
    "            lasso_model_lst.remove((feature, coefficient))\n",
    "\n",
    "            \n",
    "# checking the results\n",
    "for pair in lasso_model_lst:\n",
    "    print(pair)"
   ]
  },
  {
   "cell_type": "code",
   "execution_count": 29,
   "metadata": {
    "code_folding": [
     0
    ]
   },
   "outputs": [
    {
     "name": "stdout",
     "output_type": "stream",
     "text": [
      "Training Score: 0.759\n",
      "Testing Score : 0.7565\n",
      "ARD Train-Test Gap : 0.0025\n"
     ]
    }
   ],
   "source": [
    "# ARD MODEL\n",
    "\n",
    "# with normal Y\n",
    "\n",
    "ard_model = sklearn.linear_model.ARDRegression(normalize  = False)\n",
    "\n",
    "\n",
    "# FITTING the training data\n",
    "ard_fit = ard_model.fit(x_train_FULL, y_train_FULL)\n",
    "\n",
    "\n",
    "# PREDICTING on new data\n",
    "ard_pred = ard_fit.predict(x_test_FULL)\n",
    "\n",
    "\n",
    "print('Training Score:', ard_model.score(x_train_FULL, y_train_FULL).round(4))\n",
    "print('Testing Score :',  ard_model.score(x_test_FULL, y_test_FULL).round(4))\n",
    "\n",
    "\n",
    "# saving scoring data for future use\n",
    "ard_train_score = ard_model.score(x_train_FULL, y_train_FULL).round(4)\n",
    "ard_test_score  = ard_model.score(x_test_FULL, y_test_FULL).round(4)\n",
    "\n",
    "\n",
    "# displaying and saving the gap between training and testing\n",
    "print('ARD Train-Test Gap :', abs(ard_train_score - ard_test_score).round(4))\n",
    "ard_test_gap = abs(ard_train_score - ard_test_score).round(4)"
   ]
  },
  {
   "cell_type": "code",
   "execution_count": 30,
   "metadata": {},
   "outputs": [
    {
     "name": "stdout",
     "output_type": "stream",
     "text": [
      "('intercept', 1.43)\n",
      "('CROSS_SELL_SUCCESS', -0.01205)\n",
      "('TOTAL_MEALS_ORDERED', 0.0)\n",
      "('UNIQUE_MEALS_PURCH', 0.047)\n",
      "('CONTACTS_W_CUSTOMER_SERVICE', 0.0)\n",
      "('PRODUCT_CATEGORIES_VIEWED', 0.0)\n",
      "('AVG_TIME_PER_SITE_VISIT', 0.0)\n",
      "('MOBILE_NUMBER', 0.0)\n",
      "('CANCELLATIONS_BEFORE_NOON', 0.0)\n",
      "('CANCELLATIONS_AFTER_NOON', 0.0)\n",
      "('TASTES_AND_PREFERENCES', 0.0)\n",
      "('PC_LOGINS', 0.0)\n",
      "('MOBILE_LOGINS', 0.0)\n",
      "('WEEKLY_PLAN', 0.0)\n",
      "('EARLY_DELIVERIES', 0.0)\n",
      "('LATE_DELIVERIES', 0.0)\n",
      "('PACKAGE_LOCKER', 0.0)\n",
      "('REFRIGERATED_LOCKER', 0.0)\n",
      "('AVG_PREP_VID_TIME', 0.0)\n",
      "('AVG_MEALS_ORDERED', -0.01642)\n",
      "('MASTER_CLASSES_ATTENDED', 0.03068)\n",
      "('MEDIAN_MEAL_RATING', 0.13353)\n",
      "('AVG_CLICKS_PER_VISIT', 0.0)\n",
      "('TOTAL_PHOTOS_VIEWED', 0.0)\n",
      "('log_AVG_TIME_PER_SITE_VISIT', 0.0)\n",
      "('log_AVG_PREP_VID_TIME', 0.58079)\n",
      "('log_TOTAL_MEALS_ORDERED', 0.26758)\n",
      "('log_UNIQUE_MEALS_PURCH', -0.58407)\n",
      "('log_CONTACTS_W_CUSTOMER_SERVICE', 0.10313)\n",
      "('log_PRODUCT_CATEGORIES_VIEWED', 0.0)\n",
      "('log_AVG_MEALS_ORDERED', 0.001)\n",
      "('log_MEDIAN_MEAL_RATING', -0.36026)\n"
     ]
    }
   ],
   "source": [
    "# zipping each feature name to its coefficient\n",
    "ard_model_values = zip(apprentice_data.columns, ard_fit.coef_.round(decimals = 5))\n",
    "\n",
    "\n",
    "# setting up a placeholder list to store model features\n",
    "ard_model_lst = [('intercept', ard_fit.intercept_.round(decimals = 2))]\n",
    "\n",
    "\n",
    "# printing out each feature-coefficient pair one by one\n",
    "for val in ard_model_values:\n",
    "    ard_model_lst.append(val)\n",
    "    \n",
    "\n",
    "# checking the results\n",
    "for pair in ard_model_lst:\n",
    "    print(pair)"
   ]
  },
  {
   "cell_type": "code",
   "execution_count": 31,
   "metadata": {},
   "outputs": [
    {
     "name": "stdout",
     "output_type": "stream",
     "text": [
      "('intercept', 1.43)\n",
      "('CROSS_SELL_SUCCESS', -0.01205)\n",
      "('UNIQUE_MEALS_PURCH', 0.047)\n",
      "('PRODUCT_CATEGORIES_VIEWED', 0.0)\n",
      "('MOBILE_NUMBER', 0.0)\n",
      "('CANCELLATIONS_AFTER_NOON', 0.0)\n",
      "('PC_LOGINS', 0.0)\n",
      "('WEEKLY_PLAN', 0.0)\n",
      "('LATE_DELIVERIES', 0.0)\n",
      "('REFRIGERATED_LOCKER', 0.0)\n",
      "('AVG_MEALS_ORDERED', -0.01642)\n",
      "('MASTER_CLASSES_ATTENDED', 0.03068)\n",
      "('MEDIAN_MEAL_RATING', 0.13353)\n",
      "('TOTAL_PHOTOS_VIEWED', 0.0)\n",
      "('log_AVG_PREP_VID_TIME', 0.58079)\n",
      "('log_TOTAL_MEALS_ORDERED', 0.26758)\n",
      "('log_UNIQUE_MEALS_PURCH', -0.58407)\n",
      "('log_CONTACTS_W_CUSTOMER_SERVICE', 0.10313)\n",
      "('log_AVG_MEALS_ORDERED', 0.001)\n",
      "('log_MEDIAN_MEAL_RATING', -0.36026)\n"
     ]
    }
   ],
   "source": [
    "# dropping coefficients that are equal to zero\n",
    "\n",
    "# printing out each feature-coefficient pair one by one\n",
    "for feature, coefficient in ard_model_lst:\n",
    "        \n",
    "        if coefficient == 0:\n",
    "            ard_model_lst.remove((feature, coefficient))\n",
    "\n",
    "            \n",
    "# checking the results\n",
    "for pair in ard_model_lst:\n",
    "    print(pair)"
   ]
  },
  {
   "cell_type": "code",
   "execution_count": 32,
   "metadata": {},
   "outputs": [
    {
     "name": "stdout",
     "output_type": "stream",
     "text": [
      "\n",
      "Comparing the models:\n",
      "\n",
      "Model      Train Score      Test Score\n",
      "-----      -----------      ----------\n",
      "OLS        0.7716            0.7662\n",
      "Lasso      0.6523           0.6672\n",
      "ARD        0.759           0.7565\n",
      "\n",
      "\n",
      "CHOSEN MODEL TYPE: ARD\n",
      "\n",
      "Train Score      Test Score        Train-Test Gap\n",
      "-----------      ----------        --------------\n",
      " 0.759               0.7565            0.0025\n",
      "      \n",
      "      \n",
      "Model Size\n",
      "----------\n",
      "20\n",
      "      \n",
      "      \n",
      "Model Coefficients\n",
      "------------------      \n",
      "\n",
      "('intercept', 1.43)\n",
      "('CROSS_SELL_SUCCESS', -0.01205)\n",
      "('UNIQUE_MEALS_PURCH', 0.047)\n",
      "('PRODUCT_CATEGORIES_VIEWED', 0.0)\n",
      "('MOBILE_NUMBER', 0.0)\n",
      "('CANCELLATIONS_AFTER_NOON', 0.0)\n",
      "('PC_LOGINS', 0.0)\n",
      "('WEEKLY_PLAN', 0.0)\n",
      "('LATE_DELIVERIES', 0.0)\n",
      "('REFRIGERATED_LOCKER', 0.0)\n",
      "('AVG_MEALS_ORDERED', -0.01642)\n",
      "('MASTER_CLASSES_ATTENDED', 0.03068)\n",
      "('MEDIAN_MEAL_RATING', 0.13353)\n",
      "('TOTAL_PHOTOS_VIEWED', 0.0)\n",
      "('log_AVG_PREP_VID_TIME', 0.58079)\n",
      "('log_TOTAL_MEALS_ORDERED', 0.26758)\n",
      "('log_UNIQUE_MEALS_PURCH', -0.58407)\n",
      "('log_CONTACTS_W_CUSTOMER_SERVICE', 0.10313)\n",
      "('log_AVG_MEALS_ORDERED', 0.001)\n",
      "('log_MEDIAN_MEAL_RATING', -0.36026)\n"
     ]
    }
   ],
   "source": [
    "\n",
    "# comparing results\n",
    "\n",
    "print(f\"\"\"\n",
    "Comparing the models:\n",
    "\n",
    "Model      Train Score      Test Score\n",
    "-----      -----------      ----------\n",
    "OLS        {lr_train_score}            {lr_test_score}\n",
    "Lasso      {lasso_train_score}           {lasso_test_score}\n",
    "ARD        {ard_train_score}           {ard_test_score}\n",
    "\"\"\")\n",
    "\n",
    "\n",
    "\n",
    "# printing out the chosen model (ARD) and the scores/values\n",
    "\n",
    "print(f\"\"\"\n",
    "CHOSEN MODEL TYPE: ARD\n",
    "\n",
    "Train Score      Test Score        Train-Test Gap\n",
    "-----------      ----------        --------------\n",
    " {ard_train_score}               {ard_test_score}            {ard_test_gap}\n",
    "      \n",
    "      \n",
    "Model Size\n",
    "----------\n",
    "{len(ard_model_lst)}\n",
    "      \n",
    "      \n",
    "Model Coefficients\n",
    "------------------      \n",
    "\"\"\")\n",
    "\n",
    "for pair in ard_model_lst:\n",
    "       print(pair)\n"
   ]
  },
  {
   "cell_type": "code",
   "execution_count": null,
   "metadata": {},
   "outputs": [],
   "source": []
  },
  {
   "cell_type": "code",
   "execution_count": null,
   "metadata": {},
   "outputs": [],
   "source": [
    "import math\n",
    "print(\"Coefficients\")\n",
    "print(\"AVG_TIME_PER_SITE_VISIT:\", math.exp(0.007))\n",
    "print(\"AVG_PREP_VID_TIME:\", math.exp(0.57366))\n",
    "print(\"TOTAL_MEALS_ORDERED:\", math.exp(0.26831))\n",
    "print(\"UNIQUE_MEALS_PURCH:\", math.exp(-0.5861))\n",
    "print(\"CONTACTS_W_CUSTOMER_SERVICE:\", math.exp(0.12278))\n",
    "print(\"AVG_MEALS_ORDERED:\", math.exp(0.0))"
   ]
  },
  {
   "cell_type": "code",
   "execution_count": null,
   "metadata": {},
   "outputs": [],
   "source": []
  }
 ],
 "metadata": {
  "kernelspec": {
   "display_name": "Python 3",
   "language": "python",
   "name": "python3"
  },
  "language_info": {
   "codemirror_mode": {
    "name": "ipython",
    "version": 3
   },
   "file_extension": ".py",
   "mimetype": "text/x-python",
   "name": "python",
   "nbconvert_exporter": "python",
   "pygments_lexer": "ipython3",
   "version": "3.8.3"
  },
  "toc": {
   "base_numbering": 1,
   "nav_menu": {},
   "number_sections": true,
   "sideBar": true,
   "skip_h1_title": false,
   "title_cell": "Table of Contents",
   "title_sidebar": "Contents",
   "toc_cell": false,
   "toc_position": {},
   "toc_section_display": true,
   "toc_window_display": false
  },
  "varInspector": {
   "cols": {
    "lenName": 16,
    "lenType": 16,
    "lenVar": 40
   },
   "kernels_config": {
    "python": {
     "delete_cmd_postfix": "",
     "delete_cmd_prefix": "del ",
     "library": "var_list.py",
     "varRefreshCmd": "print(var_dic_list())"
    },
    "r": {
     "delete_cmd_postfix": ") ",
     "delete_cmd_prefix": "rm(",
     "library": "var_list.r",
     "varRefreshCmd": "cat(var_dic_list()) "
    }
   },
   "types_to_exclude": [
    "module",
    "function",
    "builtin_function_or_method",
    "instance",
    "_Feature"
   ],
   "window_display": false
  }
 },
 "nbformat": 4,
 "nbformat_minor": 4
}
